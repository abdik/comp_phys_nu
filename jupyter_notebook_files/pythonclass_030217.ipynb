{
 "cells": [
  {
   "cell_type": "code",
   "execution_count": null,
   "metadata": {
    "collapsed": false
   },
   "outputs": [],
   "source": [
    "import matplotlib.pyplot as plt\n",
    "from scipy.optimize import brentq\n",
    "import numpy as np\n",
    "%matplotlib inline\n",
    "%config InlineBackend.figure_format = 'retina' "
   ]
  },
  {
   "cell_type": "code",
   "execution_count": null,
   "metadata": {
    "collapsed": true
   },
   "outputs": [],
   "source": [
    "def f(x):\n",
    "    return 3.0*x**3+x-3\n",
    "\n",
    "def df(x):\n",
    "    return 9.0*x**2+1\n",
    "def g(x):\n",
    "    return ((3.0-x)/3.0)**(1.0/3.0)\n",
    "\n",
    "def dg(f):\n",
    "    return -1.0/9.0*(3.0/(3.0-x))**(2/3)"
   ]
  },
  {
   "cell_type": "code",
   "execution_count": null,
   "metadata": {
    "collapsed": true
   },
   "outputs": [],
   "source": [
    "def bisect(xl,xu,es,imax):\n",
    "    xr=0.0\n",
    "    x=[];e=[];it=[]\n",
    "    for i in range(imax):\n",
    "        xrold=xr\n",
    "        xr=0.5*(xl+xu)        \n",
    "        if (xr != 0.0):\n",
    "            ea=abs((xr-xrold)/xr)*100\n",
    "        it.append(i); x.append(xr); e.append(ea)\n",
    "        test=f(xl)*f(xr)\n",
    "        if (test<0.0):\n",
    "            xu=xr\n",
    "        elif (test>0.0):\n",
    "            xl=xr\n",
    "        else:\n",
    "            ea=0.0\n",
    "        if (ea<es):\n",
    "            break\n",
    "    return it,x,e\n",
    "\n",
    "def falsep(xl,xu,es,imax):\n",
    "    xr=0.0\n",
    "    x=[];e=[];it=[]\n",
    "    for i in range(imax):\n",
    "        xrold=xr\n",
    "        xr=xu-f(xu)*(xl-xu)/(f(xl)-f(xu))\n",
    "        if (xr != 0.0):\n",
    "            ea=abs((xr-xrold)/xr)*100\n",
    "        it.append(i); x.append(xr); e.append(ea)\n",
    "        test=f(xl)*f(xr)\n",
    "        if (test<0.0):\n",
    "            xu=xr\n",
    "        elif (test>0.0):\n",
    "            xl=xr\n",
    "        else:\n",
    "            ea=0.0\n",
    "        if (ea<es):\n",
    "            break\n",
    "    return it,x,e\n",
    "\n",
    "def fixpt(x0,es,imax):\n",
    "    xr=x0\n",
    "    x=[];e=[];it=[]\n",
    "    for i in range(imax):\n",
    "        xrold=xr\n",
    "        xr=g(xrold)\n",
    "        if (xr!=0):\n",
    "            ea=abs((xr-xrold)/xr)*100\n",
    "        it.append(i); x.append(xr); e.append(ea)\n",
    "        if (ea<es):\n",
    "            break\n",
    "    return it,x,e\n",
    "\n",
    "def nr(x0,es,imax):\n",
    "    xr=x0\n",
    "    x=[];e=[];it=[]\n",
    "    for i in range(imax):\n",
    "        xrold=xr\n",
    "        xr=xrold-f(xrold)/df(xrold)\n",
    "        if (xr!=0):\n",
    "            ea=abs((xr-xrold)/xr)*100\n",
    "        it.append(i); x.append(xr); e.append(ea)\n",
    "        if (ea<es):\n",
    "            break\n",
    "    return it,x,e\n",
    "\n",
    "def secant(x0,x1,es,imax):\n",
    "    x=[];e=[];it=[];\n",
    "    for i in range(imax):\n",
    "        if f(x1)-f(x0) == 0:\n",
    "            return x1\n",
    "        xr = x1 - (f(x1)*(x1-x0)*1.0)/(f(x1)-f(x0)); x0 = x1; x1 = xr\n",
    "        if (xr!=0):\n",
    "            ea=abs((xr-x0)/xr)*100\n",
    "        it.append(i); x.append(xr); e.append(ea)\n",
    "        if (ea<es):\n",
    "            break\n",
    "    return it,x,e"
   ]
  },
  {
   "cell_type": "code",
   "execution_count": null,
   "metadata": {
    "collapsed": false
   },
   "outputs": [],
   "source": [
    "i1,x1,e1=bisect(0,1,1e-12,100)\n",
    "i2,x2,e2=falsep(0,1,1e-12,100)\n",
    "i3,x3,e3=fixpt(0,1e-12,100)\n",
    "i4,x4,e4=nr(0,1e-12,100)\n",
    "i5,x5,e5=secant(0,1,1e-12,100)\n",
    "\n",
    "plt.plot(i1,e1,label=\"Bisect\"); \n",
    "plt.plot(i2,e2,label=\"Falsep\"); \n",
    "plt.plot(i3,e3,label=\"Fixpnt\"); \n",
    "plt.plot(i4,e4,label=\"Newton\"); \n",
    "plt.plot(i5,e5,label=\"Secant\"); \n",
    "\n",
    "plt.legend(); \n",
    "plt.xlabel(\"Iteration number\"); plt.ylabel(\"Error\"); \n",
    "plt.yscale('log'); \n",
    "plt.show()"
   ]
  },
  {
   "cell_type": "code",
   "execution_count": null,
   "metadata": {
    "collapsed": false
   },
   "outputs": [],
   "source": [
    "%timeit i1,x1,e1=bisect(0,1,1e-12,100)"
   ]
  },
  {
   "cell_type": "code",
   "execution_count": null,
   "metadata": {
    "collapsed": false
   },
   "outputs": [],
   "source": [
    "%timeit i2,x2,e2=falsep(0,1,1e-12,100)"
   ]
  },
  {
   "cell_type": "code",
   "execution_count": null,
   "metadata": {
    "collapsed": false
   },
   "outputs": [],
   "source": [
    "%timeit i3,x3,e3=fixpt(0,1e-12,100)"
   ]
  },
  {
   "cell_type": "code",
   "execution_count": null,
   "metadata": {
    "collapsed": false
   },
   "outputs": [],
   "source": [
    "%timeit i4,x4,e4=nr(0,1e-12,100)"
   ]
  },
  {
   "cell_type": "code",
   "execution_count": null,
   "metadata": {
    "collapsed": false
   },
   "outputs": [],
   "source": [
    "%timeit i5,x5,e5=secant(0,1,1e-12,100)"
   ]
  }
 ],
 "metadata": {
  "anaconda-cloud": {},
  "kernelspec": {
   "display_name": "Python [Root]",
   "language": "python",
   "name": "Python [Root]"
  },
  "language_info": {
   "codemirror_mode": {
    "name": "ipython",
    "version": 3
   },
   "file_extension": ".py",
   "mimetype": "text/x-python",
   "name": "python",
   "nbconvert_exporter": "python",
   "pygments_lexer": "ipython3",
   "version": "3.5.2"
  }
 },
 "nbformat": 4,
 "nbformat_minor": 0
}
