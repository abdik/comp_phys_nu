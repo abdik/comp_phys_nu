{
 "cells": [
  {
   "cell_type": "code",
   "execution_count": null,
   "metadata": {
    "collapsed": true
   },
   "outputs": [],
   "source": [
    "import matplotlib.pyplot as plt\n",
    "import numpy as np\n",
    "%matplotlib inline\n",
    "%config InlineBackend.figure_format = 'retina' "
   ]
  },
  {
   "cell_type": "code",
   "execution_count": null,
   "metadata": {
    "collapsed": true
   },
   "outputs": [],
   "source": [
    "def u(x,y):\n",
    "    return x**2+x*y-10\n",
    "def v(x,y):\n",
    "    return y+3*x*y**2-57"
   ]
  },
  {
   "cell_type": "code",
   "execution_count": null,
   "metadata": {
    "collapsed": true
   },
   "outputs": [],
   "source": [
    "def ux(x,y):\n",
    "    return 2*x+y\n",
    "def uy(x,y):\n",
    "    return x\n",
    "def vx(x,y):\n",
    "    return 3*y**2\n",
    "def vy(x,y):\n",
    "    return 1+6*x*y\n",
    "def jac(x,y):\n",
    "    return ux(x,y)*vy(x,y)-uy(x,y)*vx(x,y)\n",
    "def nrx(x,y):\n",
    "    return x-(u(x,y)*vy(x,y)-v(x,y)*uy(x,y))/jac(x,y)\n",
    "def nry(x,y):\n",
    "    return y-(v(x,y)*ux(x,y)-u(x,y)*vx(x,y))/jac(x,y)"
   ]
  },
  {
   "cell_type": "code",
   "execution_count": null,
   "metadata": {
    "collapsed": true
   },
   "outputs": [],
   "source": [
    "def nr(x0,y0,es,imax):\n",
    "    xr=x0; yr=y0\n",
    "    x=[];y=[];e=[];it=[];\n",
    "    for i in range(imax):\n",
    "        xrold=xr; yrold=yr\n",
    "        xr=nrx(xrold,yrold); yr=nry(xrold,yrold)\n",
    "        if xr!=0 and yr!=0:\n",
    "            eax=abs((xr-xrold)/xr)\n",
    "            eay=abs((yr-yrold)/yr)\n",
    "            ea = (eax**2+eay**2)**0.5\n",
    "        it.append(i); x.append(xr); y.append(yr); e.append(ea);\n",
    "        if (ea<es):\n",
    "            break\n",
    "    return it,x,y,e"
   ]
  },
  {
   "cell_type": "code",
   "execution_count": null,
   "metadata": {
    "collapsed": false
   },
   "outputs": [],
   "source": [
    "i,x,y,e=nr(1.5e5,3.5e5,1e-12,50)"
   ]
  },
  {
   "cell_type": "code",
   "execution_count": null,
   "metadata": {
    "collapsed": false
   },
   "outputs": [],
   "source": [
    "y"
   ]
  },
  {
   "cell_type": "code",
   "execution_count": null,
   "metadata": {
    "collapsed": false
   },
   "outputs": [],
   "source": [
    "plt.plot(i,e);\n",
    "plt.yscale('log')"
   ]
  },
  {
   "cell_type": "code",
   "execution_count": null,
   "metadata": {
    "collapsed": true
   },
   "outputs": [],
   "source": []
  }
 ],
 "metadata": {
  "anaconda-cloud": {},
  "kernelspec": {
   "display_name": "Python [Root]",
   "language": "python",
   "name": "Python [Root]"
  },
  "language_info": {
   "codemirror_mode": {
    "name": "ipython",
    "version": 3
   },
   "file_extension": ".py",
   "mimetype": "text/x-python",
   "name": "python",
   "nbconvert_exporter": "python",
   "pygments_lexer": "ipython3",
   "version": "3.5.2"
  }
 },
 "nbformat": 4,
 "nbformat_minor": 0
}
