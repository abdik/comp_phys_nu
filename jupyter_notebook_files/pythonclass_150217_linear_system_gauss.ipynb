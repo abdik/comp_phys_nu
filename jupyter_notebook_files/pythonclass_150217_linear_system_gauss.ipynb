{
 "cells": [
  {
   "cell_type": "code",
   "execution_count": 228,
   "metadata": {
    "collapsed": true
   },
   "outputs": [],
   "source": [
    "import numpy as np"
   ]
  },
  {
   "cell_type": "code",
   "execution_count": 291,
   "metadata": {
    "collapsed": false
   },
   "outputs": [],
   "source": [
    "a=np.array([[1,4,1],[1,6,-1],[2,-1,2]])\n",
    "b=np.array([7,13,5])\n",
    "x=np.array([0,0,0])\n",
    "ac=np.copy(a); bc=np.copy(b)"
   ]
  },
  {
   "cell_type": "code",
   "execution_count": 292,
   "metadata": {
    "collapsed": true
   },
   "outputs": [],
   "source": [
    "def GaussElimin(a,b,x):\n",
    "    n=len(b)\n",
    "    # Elimination \n",
    "    for k in range(0,n-1):\n",
    "        for i in range(k+1,n):\n",
    "            lam=a[i,k]/a[k,k]\n",
    "            a[i,k+1:n]=a[i,k+1:n]-lam*a[k,k+1:n]\n",
    "            b[i] = b[i]-lam*b[k]\n",
    "    # Back substitution\n",
    "    for k in range(n-1,-1,-1):\n",
    "        x[k]=(b[k]-np.dot(a[k,k+1:n],x[k+1:n]))/a[k,k]\n",
    "    # no variable returned"
   ]
  },
  {
   "cell_type": "code",
   "execution_count": 293,
   "metadata": {
    "collapsed": true
   },
   "outputs": [],
   "source": [
    "GaussElimin(a,b,x)"
   ]
  },
  {
   "cell_type": "code",
   "execution_count": 294,
   "metadata": {
    "collapsed": false
   },
   "outputs": [
    {
     "data": {
      "text/plain": [
       "array([ 5,  1, -2])"
      ]
     },
     "execution_count": 294,
     "metadata": {},
     "output_type": "execute_result"
    }
   ],
   "source": [
    "x"
   ]
  },
  {
   "cell_type": "code",
   "execution_count": 218,
   "metadata": {
    "collapsed": true
   },
   "outputs": [],
   "source": [
    "def SwapRows(v,i,j):\n",
    "    if len(v.shape)==1:\n",
    "        v[i],v[j] = v[j],v[i]\n",
    "    else:\n",
    "        v[[i,j],:] = v[[j,i],:]"
   ]
  },
  {
   "cell_type": "code",
   "execution_count": 250,
   "metadata": {
    "collapsed": false
   },
   "outputs": [],
   "source": [
    "def GaussPivot(a,b):\n",
    "    n=len(b)\n",
    "    # Scaling factors\n",
    "    s=np.zeros(n)\n",
    "    for i in range(n):\n",
    "        s[i]=max(np.abs(a[i,:]))\n",
    "    \n",
    "    for k in range(0,n-1):\n",
    "        # Row interchange if needed\n",
    "        p=np.argmax(np.abs(a[k:n,k])/s[k:n])+k\n",
    "        if p!=k:\n",
    "            SwapRows(b,k,p)\n",
    "            SwapRows(s,k,p)\n",
    "            SwapRows(a,k,p)\n",
    "        # Elimination\n",
    "        for i in range(k+1,n):\n",
    "            lam = a[i,k]/a[k,k]\n",
    "            a[i,k+1:n]=a[i,k+1:n]-lam*a[k,k+1:n]\n",
    "            b[i]=b[i]-lam*b[k]\n",
    "    # Back substitution\n",
    "    x[n-1]=b[n-1]/a[n-1,n-1]\n",
    "    for k in range(n-2,-1,-1):\n",
    "        x[k] = (b[k]-np.dot(a[k,k+1:n],x[k+1:n]))/a[k,k]\n",
    "    return x"
   ]
  },
  {
   "cell_type": "code",
   "execution_count": 251,
   "metadata": {
    "collapsed": true
   },
   "outputs": [],
   "source": [
    "x=GaussPivot(a,b)"
   ]
  },
  {
   "cell_type": "code",
   "execution_count": 252,
   "metadata": {
    "collapsed": false
   },
   "outputs": [
    {
     "data": {
      "text/plain": [
       "array([ 5,  1, -2])"
      ]
     },
     "execution_count": 252,
     "metadata": {},
     "output_type": "execute_result"
    }
   ],
   "source": [
    "x"
   ]
  }
 ],
 "metadata": {
  "anaconda-cloud": {},
  "kernelspec": {
   "display_name": "Python [Root]",
   "language": "python",
   "name": "Python [Root]"
  },
  "language_info": {
   "codemirror_mode": {
    "name": "ipython",
    "version": 3
   },
   "file_extension": ".py",
   "mimetype": "text/x-python",
   "name": "python",
   "nbconvert_exporter": "python",
   "pygments_lexer": "ipython3",
   "version": "3.5.2"
  }
 },
 "nbformat": 4,
 "nbformat_minor": 0
}
