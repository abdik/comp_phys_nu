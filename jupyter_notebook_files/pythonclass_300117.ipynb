{
 "cells": [
  {
   "cell_type": "code",
   "execution_count": null,
   "metadata": {
    "collapsed": true
   },
   "outputs": [],
   "source": [
    "import matplotlib.pyplot as plt\n",
    "import numpy as np\n",
    "%matplotlib inline"
   ]
  },
  {
   "cell_type": "markdown",
   "metadata": {},
   "source": [
    "Equation: $$3x^3+x-3=0$$"
   ]
  },
  {
   "cell_type": "code",
   "execution_count": null,
   "metadata": {
    "collapsed": true
   },
   "outputs": [],
   "source": [
    "def f(x):\n",
    "    return 3.0*x**3+x-3"
   ]
  },
  {
   "cell_type": "code",
   "execution_count": null,
   "metadata": {
    "collapsed": false
   },
   "outputs": [],
   "source": [
    "x=np.arange(0,2,0.1)\n",
    "plt.plot(x,f(x))\n",
    "plt.grid()\n",
    "plt.show()"
   ]
  },
  {
   "cell_type": "code",
   "execution_count": null,
   "metadata": {
    "collapsed": true
   },
   "outputs": [],
   "source": [
    "def bisect(xl,xu,es,imax):\n",
    "    xr=xu\n",
    "    x=[];e=[];it=[]\n",
    "    for i in range(imax):\n",
    "        xrold=xr\n",
    "        xr=0.5*(xl+xu)        \n",
    "        if (xr != 0.0):\n",
    "            ea=abs((xr-xrold)/xr)*100\n",
    "        it.append(i); x.append(xr); e.append(ea)\n",
    "        test=f(xl)*f(xr)\n",
    "        if (test<0.0):\n",
    "            xu=xr\n",
    "        elif (test>0.0):\n",
    "            xl=xr\n",
    "        else:\n",
    "            ea=0.0\n",
    "        if (ea<es):\n",
    "            break\n",
    "    return it,x,e"
   ]
  },
  {
   "cell_type": "code",
   "execution_count": null,
   "metadata": {
    "collapsed": true
   },
   "outputs": [],
   "source": [
    "def falsep(xl,xu,es,imax):\n",
    "    xr=xu\n",
    "    x=[];e=[];it=[]\n",
    "    for i in range(imax):\n",
    "        xrold=xr\n",
    "        xr=xu-f(xu)*(xl-xu)/(f(xl)-f(xu))\n",
    "        if (xr != 0.0):\n",
    "            ea=abs((xr-xrold)/xr)*100\n",
    "        it.append(i); x.append(xr); e.append(ea)\n",
    "        test=f(xl)*f(xr)\n",
    "        if (test<0.0):\n",
    "            xu=xr\n",
    "        elif (test>0.0):\n",
    "            xl=xr\n",
    "        else:\n",
    "            ea=0.0\n",
    "        if (ea<es):\n",
    "            break\n",
    "    return it,x,e"
   ]
  },
  {
   "cell_type": "code",
   "execution_count": null,
   "metadata": {
    "collapsed": false
   },
   "outputs": [],
   "source": [
    "i1,x1,e1=bisect(0.5,1.5,1e-12,100)\n",
    "i2,x2,e2=falsep(0.5,1.5,1e-12,100)\n",
    "\n",
    "plt.plot(i1,e1,label=\"Bisec\"); \n",
    "plt.plot(i2,e2,label=\"Falsep\"); \n",
    "\n",
    "plt.legend()\n",
    "plt.xlabel(\"Iteration number\"); \n",
    "plt.ylabel(\"Error\")\n",
    "plt.yscale('log')\n",
    "plt.show()"
   ]
  }
 ],
 "metadata": {
  "kernelspec": {
   "display_name": "Python [Root]",
   "language": "python",
   "name": "Python [Root]"
  },
  "language_info": {
   "codemirror_mode": {
    "name": "ipython",
    "version": 3
   },
   "file_extension": ".py",
   "mimetype": "text/x-python",
   "name": "python",
   "nbconvert_exporter": "python",
   "pygments_lexer": "ipython3",
   "version": "3.5.2"
  }
 },
 "nbformat": 4,
 "nbformat_minor": 0
}
