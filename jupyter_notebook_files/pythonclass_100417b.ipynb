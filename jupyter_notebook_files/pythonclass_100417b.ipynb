{
 "cells": [
  {
   "cell_type": "markdown",
   "metadata": {},
   "source": [
    "Solve ODE\n",
    "\n",
    "$$ \\frac{dy}{dx}= -1000y+3000-2000 e^{-x} $$\n",
    "\n",
    "in region from $a=0$ to $b=1$ for the initial condition $ y(0) = 0$ . \n",
    "\n",
    "This problem has an analytical solution:\n",
    "\n",
    "$$ y(x) = 3-0.998 e^{-1000 x}-2.002 e^{-x} $$\n"
   ]
  },
  {
   "cell_type": "code",
   "execution_count": null,
   "metadata": {
    "collapsed": false
   },
   "outputs": [],
   "source": [
    "import numpy as np\n",
    "from math import exp\n",
    "import matplotlib.pyplot as plt\n",
    "%matplotlib inline\n",
    "%config InlineBackend.figure_format = 'retina' "
   ]
  },
  {
   "cell_type": "code",
   "execution_count": null,
   "metadata": {
    "collapsed": true
   },
   "outputs": [],
   "source": [
    "def f(x,y):\n",
    "    return -1000*y+3000-2000*exp(-x)\n",
    "def y_exact(x):\n",
    "    return 3-0.998*np.exp(-1000*x)-2.002*np.exp(-x)"
   ]
  },
  {
   "cell_type": "code",
   "execution_count": null,
   "metadata": {
    "collapsed": false
   },
   "outputs": [],
   "source": [
    "h=0.001\n",
    "a=0.0; b=1.0e0;\n",
    "n=int((b-a)/h);\n",
    "x1=np.arange(a,b,h); \n",
    "plt.plot(x1,y_exact(x1));\n",
    "#plt.xlim(0,1);"
   ]
  },
  {
   "cell_type": "code",
   "execution_count": null,
   "metadata": {
    "collapsed": false
   },
   "outputs": [],
   "source": [
    "#h=0.001; \n",
    "h=0.01; # threshold value for stability\n",
    "a=0.0;b=1.0e0\n",
    "n=int((b-a)/h);\n",
    "x=np.arange(a,b,h); y=np.zeros(n,float);\n",
    "y_eul=np.zeros(n,float); y_im=np.zeros(n,float); y_rk4=np.zeros(n,float);\n",
    "\n",
    "y_eul[0]=0.0; y_im[0]=0.0; y_rk4[0]=0.0;# initial condition\n",
    "\n",
    "for i in range(n-1):\n",
    "    y_eul[i+1]=y_eul[i]+f(x[i],y_eul[i])*h\n",
    "\n",
    "    y_im[i+1]=1.0/(1.0+1.0e3*h)*(y_im[i]+(3.0e3-2.0e3*np.exp(-x[i+1]))*h)\n",
    "\n",
    "    k1 = f(x[i], y_rk4[i]);\n",
    "    k2 = f(x[i]+0.5*h, y_rk4[i]+0.5*k1*h)\n",
    "    k3 = f(x[i]+0.5*h, y_rk4[i]+0.5*k2*h)\n",
    "    k4 = f(x[i]+h, y_rk4[i]+k3*h)\n",
    "    y_rk4[i+1] = y_rk4[i]+(k1+2*k2+2*k3+k4)*h/6.0"
   ]
  },
  {
   "cell_type": "code",
   "execution_count": null,
   "metadata": {
    "collapsed": false
   },
   "outputs": [],
   "source": [
    "plt.plot(x,y,linewidth=2);\n",
    "plt.plot(x,y_eul,linewidth=2);\n",
    "plt.plot(x,y_im,linewidth=2);\n",
    "plt.plot(x1,y_exact(x1),color='r',linestyle=\"--\",linewidth=2);\n",
    "#plt.xlim(0,0.1);"
   ]
  }
 ],
 "metadata": {
  "anaconda-cloud": {},
  "kernelspec": {
   "display_name": "Python [Root]",
   "language": "python",
   "name": "Python [Root]"
  },
  "language_info": {
   "codemirror_mode": {
    "name": "ipython",
    "version": 3
   },
   "file_extension": ".py",
   "mimetype": "text/x-python",
   "name": "python",
   "nbconvert_exporter": "python",
   "pygments_lexer": "ipython3",
   "version": "3.5.2"
  }
 },
 "nbformat": 4,
 "nbformat_minor": 0
}
