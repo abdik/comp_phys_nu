{
 "cells": [
  {
   "cell_type": "code",
   "execution_count": null,
   "metadata": {
    "collapsed": false
   },
   "outputs": [],
   "source": [
    "t=float(input(\"Enter water temperature:\"))\n",
    "if t>100:\n",
    "    print(\"Gas form\")\n",
    "elif 0<t and t<100: # there is also \"or\" option\n",
    "    print(\"Liquid form\")\n",
    "else:\n",
    "    print(\"Ice\")"
   ]
  },
  {
   "cell_type": "code",
   "execution_count": null,
   "metadata": {
    "collapsed": false
   },
   "outputs": [],
   "source": [
    "t=input(\"Enter pasword: \")\n",
    "password = \"smart\"\n",
    "while t != password:\n",
    "    t=input(\"Password incorrect. Try again: \")\n",
    "print(\"Password correct. Here is your information\")"
   ]
  },
  {
   "cell_type": "code",
   "execution_count": null,
   "metadata": {
    "collapsed": false
   },
   "outputs": [],
   "source": [
    "t=input(\"Enter pasword: \")\n",
    "password = \"smart\"\n",
    "i=1; imax=3\n",
    "while t != password:\n",
    "    i=i+1 #\n",
    "    t=input(\"Password incorrect. Try again: \")\n",
    "    if i==imax:\n",
    "        break\n",
    "if i!=imax:\n",
    "    print(\"Password correct. Here is your information.\")\n",
    "else:\n",
    "    print(\"You entered incorrect password\", imax, \"times.\")"
   ]
  },
  {
   "cell_type": "code",
   "execution_count": null,
   "metadata": {
    "collapsed": false
   },
   "outputs": [],
   "source": [
    "from math import sqrt\n",
    "r=[1.0,4.4]\n",
    "magnitude = sqrt(r[0]**2+r[1]**2)\n",
    "print(magnitude)"
   ]
  },
  {
   "cell_type": "code",
   "execution_count": null,
   "metadata": {
    "collapsed": false
   },
   "outputs": [],
   "source": [
    "numbers=[]; print(numbers)\n",
    "numbers.append(1); print(numbers)\n",
    "numbers.pop; print(numbers)"
   ]
  },
  {
   "cell_type": "code",
   "execution_count": null,
   "metadata": {
    "collapsed": false
   },
   "outputs": [],
   "source": [
    "n=int(input(\"Enter the number of students: \"))\n",
    "i=0\n",
    "gpa=[]\n",
    "while i < n:\n",
    "    a=float(input(\"Enter the GPA: \"))\n",
    "    gpa.append(a)\n",
    "    i=i+1\n",
    "av = sum(age)/len(age)\n",
    "print(\"The average gpa of students is: \", av)"
   ]
  },
  {
   "cell_type": "code",
   "execution_count": null,
   "metadata": {
    "collapsed": false
   },
   "outputs": [],
   "source": [
    "from numpy import zeros\n",
    "n=int(input(\"Enter the number of students:\"))\n",
    "gpa=zeros(n,float)\n",
    "i=0\n",
    "while i < n:\n",
    "    gpa[i]=float(input(\"Enter the GPA of student\"))\n",
    "    i+=1\n",
    "av = sum(age)/len(age)\n",
    "print(\"The average age of students is:\", av)"
   ]
  },
  {
   "cell_type": "code",
   "execution_count": null,
   "metadata": {
    "collapsed": false
   },
   "outputs": [],
   "source": [
    "from numpy import zeros\n",
    "a=zeros([3,4],float)\n",
    "print(a)"
   ]
  }
 ],
 "metadata": {
  "kernelspec": {
   "display_name": "Python [Root]",
   "language": "python",
   "name": "Python [Root]"
  },
  "language_info": {
   "codemirror_mode": {
    "name": "ipython",
    "version": 3
   },
   "file_extension": ".py",
   "mimetype": "text/x-python",
   "name": "python",
   "nbconvert_exporter": "python",
   "pygments_lexer": "ipython3",
   "version": "3.5.2"
  }
 },
 "nbformat": 4,
 "nbformat_minor": 0
}
