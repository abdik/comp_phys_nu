{
 "cells": [
  {
   "cell_type": "markdown",
   "metadata": {},
   "source": [
    "Solve system \n",
    "\n",
    "$$ x^2+xy=10$$\n",
    "\n",
    "$$ y+3xy^2=57 $$\n",
    "\n",
    "using the fixed-point iteration method with reformulation\n",
    "\n",
    "$$ x= \\frac{10-x^2}{y} $$\n",
    "\n",
    "$$ y = 57 - 3xy^2$$\n"
   ]
  },
  {
   "cell_type": "code",
   "execution_count": null,
   "metadata": {
    "collapsed": true
   },
   "outputs": [],
   "source": [
    "import matplotlib.pyplot as plt\n",
    "import numpy as np\n",
    "%matplotlib inline\n",
    "%config InlineBackend.figure_format = 'retina' "
   ]
  },
  {
   "cell_type": "code",
   "execution_count": null,
   "metadata": {
    "collapsed": true
   },
   "outputs": [],
   "source": [
    "def u(x,y):\n",
    "    return (10-x**2)/y\n",
    "def v(x,y):\n",
    "    return 57-3*x*y**2"
   ]
  },
  {
   "cell_type": "code",
   "execution_count": null,
   "metadata": {
    "collapsed": true
   },
   "outputs": [],
   "source": [
    "def fixpt(x0,y0,es,imax):\n",
    "    xr=x0; yr=y0\n",
    "    x=[];y=[];e=[];it=[];ex=[];ey=[]\n",
    "    for i in range(imax):\n",
    "        xrold=xr; yrold=yr\n",
    "        xr=u(xrold,yrold); yr=v(xr,yrold)\n",
    "        if xr!=0 and yr!=0:\n",
    "            eax=abs((xr-xrold)/xr)*100\n",
    "            eay=abs((yr-yrold)/yr)*100\n",
    "            ea = (eax**2+eay**2)**0.5\n",
    "        it.append(i); x.append(xr); y.append(yr); e.append(ea); \n",
    "        if (ea<es):\n",
    "            break\n",
    "    return it,x,y,e"
   ]
  },
  {
   "cell_type": "code",
   "execution_count": null,
   "metadata": {
    "collapsed": false
   },
   "outputs": [],
   "source": [
    "i,x,y,e=fixpt(1.5,3.5,1e-12,50)"
   ]
  },
  {
   "cell_type": "code",
   "execution_count": null,
   "metadata": {
    "collapsed": false
   },
   "outputs": [],
   "source": [
    "y"
   ]
  },
  {
   "cell_type": "code",
   "execution_count": null,
   "metadata": {
    "collapsed": false
   },
   "outputs": [],
   "source": [
    "plt.plot(i,e);\n",
    "plt.yscale('log')"
   ]
  }
 ],
 "metadata": {
  "anaconda-cloud": {},
  "kernelspec": {
   "display_name": "Python [Root]",
   "language": "python",
   "name": "Python [Root]"
  },
  "language_info": {
   "codemirror_mode": {
    "name": "ipython",
    "version": 3
   },
   "file_extension": ".py",
   "mimetype": "text/x-python",
   "name": "python",
   "nbconvert_exporter": "python",
   "pygments_lexer": "ipython3",
   "version": "3.5.2"
  }
 },
 "nbformat": 4,
 "nbformat_minor": 0
}
