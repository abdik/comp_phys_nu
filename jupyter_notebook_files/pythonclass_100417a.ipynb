{
 "cells": [
  {
   "cell_type": "markdown",
   "metadata": {},
   "source": [
    "Solve ODE\n",
    "    $$ \\frac{dy}{dx} = -2.0x^3 + 12.0x^2 - 20.0x + 8.5 $$ \n",
    "in range from $x=0$ to $x=4$ with initial condition $y(0)=1$. This ODE has an analytical solution:\n",
    "\n",
    "$$ y(x) = -0.5x^4 + 4.0x^3 - 10.0x^2 + 8.5x + 1.0 $$\n",
    "   "
   ]
  },
  {
   "cell_type": "code",
   "execution_count": null,
   "metadata": {
    "collapsed": true
   },
   "outputs": [],
   "source": [
    "import numpy as np\n",
    "from math import exp\n",
    "import matplotlib.pyplot as plt\n",
    "%matplotlib inline\n",
    "%config InlineBackend.figure_format = 'retina' "
   ]
  },
  {
   "cell_type": "code",
   "execution_count": null,
   "metadata": {
    "collapsed": true
   },
   "outputs": [],
   "source": [
    "def f(x,y):\n",
    "    return -2.0*x**3 + 12.0*x**2 - 20.0*x + 8.5\n",
    "def y_exact(x):\n",
    "    # exact solution\n",
    "    return -0.5*x**4 + 4.0*x**3 - 10.0*x**2 + 8.5*x + 1.0"
   ]
  },
  {
   "cell_type": "code",
   "execution_count": null,
   "metadata": {
    "collapsed": true
   },
   "outputs": [],
   "source": [
    "h=0.5\n",
    "a=0.0; b=4.0;\n",
    "n=int((b-a)/h);\n",
    "x=np.arange(a,b,h); \n",
    "y_eul=np.zeros(n,float); y_heun=np.zeros(n,float); \n",
    "y_mp=np.zeros(n,float); y_rk4=np.zeros(n,float);"
   ]
  },
  {
   "cell_type": "code",
   "execution_count": null,
   "metadata": {
    "collapsed": false
   },
   "outputs": [],
   "source": [
    "y_eul[0]=1.0; y_heun[0]=1.0; y_mp[0]=1.0; y_rk4[0]=1.0;# initial condition\n",
    "for i in range(n-1):\n",
    "    y_eul[i+1]=y_eul[i]+f(x[i],y_eul[i])*h\n",
    "\n",
    "    y_tmp = y_heun[i] + f(x[i],y_heun[i])*h\n",
    "    y_heun[i+1] = y_heun[i] + 0.5*(f(x[i],y_heun[i])+f(x[i]+h,y_tmp))*h\n",
    "\n",
    "    y_tmp = y_mp[i] + f(x[i],y_mp[i])*(h/2.0)\n",
    "    y_mp[i+1]=y_mp[i]+f(x[i]+h/2,y_tmp)*h\n",
    "    \n",
    "    k1 = f(x[i], y_rk4[i]);\n",
    "    k2 = f(x[i]+0.5*h, y_rk4[i]+0.5*k1*h)\n",
    "    k3 = f(x[i]+0.5*h, y_rk4[i]+0.5*k2*h)\n",
    "    k4 = f(x[i]+h, y_rk4[i]+k3*h)\n",
    "    y_rk4[i+1] = y_rk4[i]+(k1+2*k2+2*k3+k4)*h/6.0"
   ]
  },
  {
   "cell_type": "code",
   "execution_count": null,
   "metadata": {
    "collapsed": false
   },
   "outputs": [],
   "source": [
    "plt.plot(x,y_exact(x),label='Exact solution',linestyle=':',linewidth=3);\n",
    "plt.plot(x,y_eul,label='Euler');\n",
    "plt.plot(x,y_heun,label='Heun');\n",
    "plt.plot(x,y_mp,label='Midpoint');\n",
    "plt.plot(x,y_rk4,label='RK4');\n",
    "plt.legend();"
   ]
  },
  {
   "cell_type": "code",
   "execution_count": null,
   "metadata": {
    "collapsed": false
   },
   "outputs": [],
   "source": [
    "d_eul  = (y_eul[len(x)-1]-y_exact(x[len(x)-1])) / y_exact(x[len(x)-1]);\n",
    "d_heun = (y_heun[len(x)-1]-y_exact(x[len(x)-1])) / y_exact(x[len(x)-1])\n",
    "d_mp   = (y_mp[len(x)-1]-y_exact(x[len(x)-1])) / y_exact(x[len(x)-1])\n",
    "d_rk4  = (y_rk4[len(x)-1]-y_exact(x[len(x)-1])) / y_exact(x[len(x)-1])\n",
    "\n",
    "print(d_eul,d_heun, d_mp, d_rk4)"
   ]
  },
  {
   "cell_type": "code",
   "execution_count": null,
   "metadata": {
    "collapsed": false
   },
   "outputs": [],
   "source": [
    "y_rk4[len(x)-1], y_exact(x[len(x)-1])"
   ]
  }
 ],
 "metadata": {
  "anaconda-cloud": {},
  "kernelspec": {
   "display_name": "Python [Root]",
   "language": "python",
   "name": "Python [Root]"
  },
  "language_info": {
   "codemirror_mode": {
    "name": "ipython",
    "version": 3
   },
   "file_extension": ".py",
   "mimetype": "text/x-python",
   "name": "python",
   "nbconvert_exporter": "python",
   "pygments_lexer": "ipython3",
   "version": "3.5.2"
  }
 },
 "nbformat": 4,
 "nbformat_minor": 0
}
